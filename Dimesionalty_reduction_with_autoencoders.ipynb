{
  "nbformat": 4,
  "nbformat_minor": 0,
  "metadata": {
    "colab": {
      "provenance": [],
      "gpuType": "T4"
    },
    "kernelspec": {
      "name": "python3",
      "display_name": "Python 3"
    },
    "language_info": {
      "name": "python"
    },
    "accelerator": "GPU"
  },
  "cells": [
    {
      "cell_type": "markdown",
      "source": [
        "### This project uses autoencoders to reduce the dimension. The MNIST dataset will be used as an implementation of the model."
      ],
      "metadata": {
        "id": "bJlcq7cP1c0v"
      }
    },
    {
      "cell_type": "code",
      "execution_count": 1,
      "metadata": {
        "id": "qKEbwycv0ARf"
      },
      "outputs": [],
      "source": [
        "#### Importing Libraries and dataset\n",
        "import numpy as np\n",
        "from tensorflow.keras import Model, Input\n",
        "from tensorflow.keras.layers import Dense\n",
        "import matplotlib.pyplot as plt\n"
      ]
    },
    {
      "cell_type": "code",
      "source": [
        "# Acquire MNIST data\n",
        "from tensorflow.keras.datasets import mnist\n",
        "\n",
        "(train_images, train_labels), (test_images,test_labels) = mnist.load_data()"
      ],
      "metadata": {
        "colab": {
          "base_uri": "https://localhost:8080/"
        },
        "id": "faHofxCd3liM",
        "outputId": "19f385cf-a062-4fc6-e3d4-c55ca46c7b18"
      },
      "execution_count": 2,
      "outputs": [
        {
          "output_type": "stream",
          "name": "stdout",
          "text": [
            "Downloading data from https://storage.googleapis.com/tensorflow/tf-keras-datasets/mnist.npz\n",
            "11490434/11490434 [==============================] - 0s 0us/step\n"
          ]
        }
      ]
    },
    {
      "cell_type": "code",
      "source": [
        "# reshape the data\n",
        "### seems data has been flattened\n",
        "\n",
        "train_images= np.reshape(train_images,(-1,784))\n",
        "test_images= np.reshape(test_images,(-1,784))"
      ],
      "metadata": {
        "id": "NaJZLe4R3mNk"
      },
      "execution_count": 3,
      "outputs": []
    },
    {
      "cell_type": "code",
      "source": [
        "# normalize data\n",
        "train_images= train_images.astype('float32')/255\n",
        "test_images =test_images.astype('float32')/255"
      ],
      "metadata": {
        "id": "WMp4_OV17ahs"
      },
      "execution_count": 4,
      "outputs": []
    },
    {
      "cell_type": "markdown",
      "source": [
        "### Creating the autoencoder Model"
      ],
      "metadata": {
        "id": "2_b2uht2dVGt"
      }
    },
    {
      "cell_type": "code",
      "source": [
        "input_dim =28*28  # actual dimension(size) of the input image\n",
        "latent_dim=2      # the desired output dimension \n",
        "\n",
        "input_layer= Input(shape=(input_dim))\n",
        "\n",
        "# defining the autoencoder architecture\n",
        "\n",
        "# encoder layer\n",
        "\n",
        "x= Dense(500,activation='sigmoid')(input_layer)   # the dimesiions in the dense layer gradually reduces till it gets to 2\n",
        "x= Dense(300, activation='sigmoid')(x)\n",
        "x= Dense(100, activation='sigmoid')(x)\n",
        "x= Dense(latent_dim, activation='tanh')(x)        # encoder dimension=2\n",
        "\n",
        "\n",
        "#decoder layer\n",
        "\n",
        "y= Dense(100, activation='sigmoid')(x)\n",
        "y= Dense(300, activation='sigmoid')(y)\n",
        "y= Dense(500, activation='sigmoid')(y)\n",
        "y= Dense(input_dim, activation='sigmoid')(y)         # decoder dimesion begins to increase\n",
        "\n",
        "# combining the encoder and decoder into one- autoencoder\n",
        "\n",
        "autoencoder = Model(input_layer, y, name=\"Autoencoder\")\n",
        "\n",
        "# compiling the autoencoder\n",
        "\n",
        "autoencoder.compile(loss='binary_crossentropy', optimizer='adam')\n",
        "\n",
        "autoencoder.summary()"
      ],
      "metadata": {
        "colab": {
          "base_uri": "https://localhost:8080/"
        },
        "id": "k5ZVeh0g8ioU",
        "outputId": "b3e7645b-030f-4af3-809c-a850b992402c"
      },
      "execution_count": 5,
      "outputs": [
        {
          "output_type": "stream",
          "name": "stdout",
          "text": [
            "Model: \"Autoencoder\"\n",
            "_________________________________________________________________\n",
            " Layer (type)                Output Shape              Param #   \n",
            "=================================================================\n",
            " input_1 (InputLayer)        [(None, 784)]             0         \n",
            "                                                                 \n",
            " dense (Dense)               (None, 500)               392500    \n",
            "                                                                 \n",
            " dense_1 (Dense)             (None, 300)               150300    \n",
            "                                                                 \n",
            " dense_2 (Dense)             (None, 100)               30100     \n",
            "                                                                 \n",
            " dense_3 (Dense)             (None, 2)                 202       \n",
            "                                                                 \n",
            " dense_4 (Dense)             (None, 100)               300       \n",
            "                                                                 \n",
            " dense_5 (Dense)             (None, 300)               30300     \n",
            "                                                                 \n",
            " dense_6 (Dense)             (None, 500)               150500    \n",
            "                                                                 \n",
            " dense_7 (Dense)             (None, 784)               392784    \n",
            "                                                                 \n",
            "=================================================================\n",
            "Total params: 1,146,986\n",
            "Trainable params: 1,146,986\n",
            "Non-trainable params: 0\n",
            "_________________________________________________________________\n"
          ]
        }
      ]
    },
    {
      "cell_type": "markdown",
      "source": [
        "### Training phase"
      ],
      "metadata": {
        "id": "5YE1k2VVIiyg"
      }
    },
    {
      "cell_type": "code",
      "source": [
        "history= autoencoder.fit(train_images,train_images, epochs=100, batch_size=120, shuffle=True, validation_data=(test_images,test_images))"
      ],
      "metadata": {
        "colab": {
          "base_uri": "https://localhost:8080/"
        },
        "id": "H9GdNvXwHCp6",
        "outputId": "fd5caeb3-f74d-49f7-82c2-a6f41b52253b"
      },
      "execution_count": 6,
      "outputs": [
        {
          "output_type": "stream",
          "name": "stdout",
          "text": [
            "Epoch 1/100\n",
            "500/500 [==============================] - 16s 8ms/step - loss: 0.2681 - val_loss: 0.2636\n",
            "Epoch 2/100\n",
            "500/500 [==============================] - 2s 4ms/step - loss: 0.2623 - val_loss: 0.2443\n",
            "Epoch 3/100\n",
            "500/500 [==============================] - 2s 5ms/step - loss: 0.2369 - val_loss: 0.2303\n",
            "Epoch 4/100\n",
            "500/500 [==============================] - 4s 8ms/step - loss: 0.2258 - val_loss: 0.2192\n",
            "Epoch 5/100\n",
            "500/500 [==============================] - 4s 7ms/step - loss: 0.2167 - val_loss: 0.2135\n",
            "Epoch 6/100\n",
            "500/500 [==============================] - 2s 4ms/step - loss: 0.2119 - val_loss: 0.2089\n",
            "Epoch 7/100\n",
            "500/500 [==============================] - 2s 5ms/step - loss: 0.2085 - val_loss: 0.2077\n",
            "Epoch 8/100\n",
            "500/500 [==============================] - 4s 8ms/step - loss: 0.2075 - val_loss: 0.2048\n",
            "Epoch 9/100\n",
            "500/500 [==============================] - 4s 7ms/step - loss: 0.2041 - val_loss: 0.2019\n",
            "Epoch 10/100\n",
            "500/500 [==============================] - 4s 7ms/step - loss: 0.2032 - val_loss: 0.2032\n",
            "Epoch 11/100\n",
            "500/500 [==============================] - 4s 9ms/step - loss: 0.2026 - val_loss: 0.2000\n",
            "Epoch 12/100\n",
            "500/500 [==============================] - 3s 6ms/step - loss: 0.1997 - val_loss: 0.1975\n",
            "Epoch 13/100\n",
            "500/500 [==============================] - 2s 4ms/step - loss: 0.1988 - val_loss: 0.1989\n",
            "Epoch 14/100\n",
            "500/500 [==============================] - 2s 4ms/step - loss: 0.1986 - val_loss: 0.1972\n",
            "Epoch 15/100\n",
            "500/500 [==============================] - 3s 5ms/step - loss: 0.1973 - val_loss: 0.1961\n",
            "Epoch 16/100\n",
            "500/500 [==============================] - 3s 6ms/step - loss: 0.1958 - val_loss: 0.1956\n",
            "Epoch 17/100\n",
            "500/500 [==============================] - 3s 6ms/step - loss: 0.1970 - val_loss: 0.1975\n",
            "Epoch 18/100\n",
            "500/500 [==============================] - 3s 6ms/step - loss: 0.1965 - val_loss: 0.1938\n",
            "Epoch 19/100\n",
            "500/500 [==============================] - 4s 9ms/step - loss: 0.1947 - val_loss: 0.1955\n",
            "Epoch 20/100\n",
            "500/500 [==============================] - 3s 5ms/step - loss: 0.1946 - val_loss: 0.1942\n",
            "Epoch 21/100\n",
            "500/500 [==============================] - 3s 6ms/step - loss: 0.1949 - val_loss: 0.1943\n",
            "Epoch 22/100\n",
            "500/500 [==============================] - 3s 6ms/step - loss: 0.1971 - val_loss: 0.1990\n",
            "Epoch 23/100\n",
            "500/500 [==============================] - 4s 8ms/step - loss: 0.1981 - val_loss: 0.1934\n",
            "Epoch 24/100\n",
            "500/500 [==============================] - 2s 5ms/step - loss: 0.1933 - val_loss: 0.1923\n",
            "Epoch 25/100\n",
            "500/500 [==============================] - 4s 7ms/step - loss: 0.1938 - val_loss: 0.1919\n",
            "Epoch 26/100\n",
            "500/500 [==============================] - 3s 6ms/step - loss: 0.1935 - val_loss: 0.1938\n",
            "Epoch 27/100\n",
            "500/500 [==============================] - 3s 5ms/step - loss: 0.1951 - val_loss: 0.1977\n",
            "Epoch 28/100\n",
            "500/500 [==============================] - 2s 4ms/step - loss: 0.1964 - val_loss: 0.1953\n",
            "Epoch 29/100\n",
            "500/500 [==============================] - 2s 4ms/step - loss: 0.1971 - val_loss: 0.1949\n",
            "Epoch 30/100\n",
            "500/500 [==============================] - 2s 4ms/step - loss: 0.1957 - val_loss: 0.1971\n",
            "Epoch 31/100\n",
            "500/500 [==============================] - 2s 4ms/step - loss: 0.1973 - val_loss: 0.1994\n",
            "Epoch 32/100\n",
            "500/500 [==============================] - 2s 4ms/step - loss: 0.1940 - val_loss: 0.1920\n",
            "Epoch 33/100\n",
            "500/500 [==============================] - 3s 5ms/step - loss: 0.1912 - val_loss: 0.1913\n",
            "Epoch 34/100\n",
            "500/500 [==============================] - 2s 4ms/step - loss: 0.1899 - val_loss: 0.1896\n",
            "Epoch 35/100\n",
            "500/500 [==============================] - 2s 4ms/step - loss: 0.1891 - val_loss: 0.1881\n",
            "Epoch 36/100\n",
            "500/500 [==============================] - 2s 4ms/step - loss: 0.1881 - val_loss: 0.1864\n",
            "Epoch 37/100\n",
            "500/500 [==============================] - 2s 4ms/step - loss: 0.1875 - val_loss: 0.1864\n",
            "Epoch 38/100\n",
            "500/500 [==============================] - 3s 5ms/step - loss: 0.1868 - val_loss: 0.1862\n",
            "Epoch 39/100\n",
            "500/500 [==============================] - 2s 4ms/step - loss: 0.1861 - val_loss: 0.1877\n",
            "Epoch 40/100\n",
            "500/500 [==============================] - 2s 4ms/step - loss: 0.1879 - val_loss: 0.1879\n",
            "Epoch 41/100\n",
            "500/500 [==============================] - 2s 4ms/step - loss: 0.1866 - val_loss: 0.1843\n",
            "Epoch 42/100\n",
            "500/500 [==============================] - 2s 4ms/step - loss: 0.1854 - val_loss: 0.1834\n",
            "Epoch 43/100\n",
            "500/500 [==============================] - 2s 4ms/step - loss: 0.1866 - val_loss: 0.1857\n",
            "Epoch 44/100\n",
            "500/500 [==============================] - 3s 5ms/step - loss: 0.1856 - val_loss: 0.1836\n",
            "Epoch 45/100\n",
            "500/500 [==============================] - 2s 4ms/step - loss: 0.1845 - val_loss: 0.1833\n",
            "Epoch 46/100\n",
            "500/500 [==============================] - 2s 4ms/step - loss: 0.1839 - val_loss: 0.1833\n",
            "Epoch 47/100\n",
            "500/500 [==============================] - 2s 4ms/step - loss: 0.1835 - val_loss: 0.1829\n",
            "Epoch 48/100\n",
            "500/500 [==============================] - 2s 4ms/step - loss: 0.1832 - val_loss: 0.1818\n",
            "Epoch 49/100\n",
            "500/500 [==============================] - 2s 5ms/step - loss: 0.1834 - val_loss: 0.1833\n",
            "Epoch 50/100\n",
            "500/500 [==============================] - 2s 4ms/step - loss: 0.1848 - val_loss: 0.1822\n",
            "Epoch 51/100\n",
            "500/500 [==============================] - 2s 4ms/step - loss: 0.1837 - val_loss: 0.1823\n",
            "Epoch 52/100\n",
            "500/500 [==============================] - 2s 4ms/step - loss: 0.1845 - val_loss: 0.1845\n",
            "Epoch 53/100\n",
            "500/500 [==============================] - 2s 4ms/step - loss: 0.1869 - val_loss: 0.1860\n",
            "Epoch 54/100\n",
            "500/500 [==============================] - 3s 7ms/step - loss: 0.1875 - val_loss: 0.1863\n",
            "Epoch 55/100\n",
            "500/500 [==============================] - 3s 6ms/step - loss: 0.1847 - val_loss: 0.1822\n",
            "Epoch 56/100\n",
            "500/500 [==============================] - 2s 4ms/step - loss: 0.1825 - val_loss: 0.1812\n",
            "Epoch 57/100\n",
            "500/500 [==============================] - 2s 5ms/step - loss: 0.1836 - val_loss: 0.1832\n",
            "Epoch 58/100\n",
            "500/500 [==============================] - 2s 4ms/step - loss: 0.1838 - val_loss: 0.1852\n",
            "Epoch 59/100\n",
            "500/500 [==============================] - 2s 5ms/step - loss: 0.1844 - val_loss: 0.1843\n",
            "Epoch 60/100\n",
            "500/500 [==============================] - 3s 5ms/step - loss: 0.1842 - val_loss: 0.1823\n",
            "Epoch 61/100\n",
            "500/500 [==============================] - 2s 4ms/step - loss: 0.1826 - val_loss: 0.1809\n",
            "Epoch 62/100\n",
            "500/500 [==============================] - 2s 4ms/step - loss: 0.1810 - val_loss: 0.1812\n",
            "Epoch 63/100\n",
            "500/500 [==============================] - 2s 4ms/step - loss: 0.1810 - val_loss: 0.1805\n",
            "Epoch 64/100\n",
            "500/500 [==============================] - 2s 4ms/step - loss: 0.1804 - val_loss: 0.1795\n",
            "Epoch 65/100\n",
            "500/500 [==============================] - 3s 5ms/step - loss: 0.1800 - val_loss: 0.1810\n",
            "Epoch 66/100\n",
            "500/500 [==============================] - 2s 4ms/step - loss: 0.1797 - val_loss: 0.1784\n",
            "Epoch 67/100\n",
            "500/500 [==============================] - 2s 4ms/step - loss: 0.1788 - val_loss: 0.1774\n",
            "Epoch 68/100\n",
            "500/500 [==============================] - 2s 4ms/step - loss: 0.1776 - val_loss: 0.1768\n",
            "Epoch 69/100\n",
            "500/500 [==============================] - 2s 4ms/step - loss: 0.1772 - val_loss: 0.1759\n",
            "Epoch 70/100\n",
            "500/500 [==============================] - 2s 4ms/step - loss: 0.1785 - val_loss: 0.1782\n",
            "Epoch 71/100\n",
            "500/500 [==============================] - 3s 6ms/step - loss: 0.1778 - val_loss: 0.1772\n",
            "Epoch 72/100\n",
            "500/500 [==============================] - 2s 4ms/step - loss: 0.1765 - val_loss: 0.1759\n",
            "Epoch 73/100\n",
            "500/500 [==============================] - 2s 4ms/step - loss: 0.1759 - val_loss: 0.1747\n",
            "Epoch 74/100\n",
            "500/500 [==============================] - 2s 4ms/step - loss: 0.1750 - val_loss: 0.1749\n",
            "Epoch 75/100\n",
            "500/500 [==============================] - 2s 4ms/step - loss: 0.1767 - val_loss: 0.1769\n",
            "Epoch 76/100\n",
            "500/500 [==============================] - 2s 5ms/step - loss: 0.1772 - val_loss: 0.1765\n",
            "Epoch 77/100\n",
            "500/500 [==============================] - 2s 4ms/step - loss: 0.1769 - val_loss: 0.1763\n",
            "Epoch 78/100\n",
            "500/500 [==============================] - 2s 4ms/step - loss: 0.1762 - val_loss: 0.1746\n",
            "Epoch 79/100\n",
            "500/500 [==============================] - 2s 4ms/step - loss: 0.1749 - val_loss: 0.1737\n",
            "Epoch 80/100\n",
            "500/500 [==============================] - 2s 4ms/step - loss: 0.1757 - val_loss: 0.1758\n",
            "Epoch 81/100\n",
            "500/500 [==============================] - 2s 4ms/step - loss: 0.1757 - val_loss: 0.1748\n",
            "Epoch 82/100\n",
            "500/500 [==============================] - 2s 5ms/step - loss: 0.1743 - val_loss: 0.1739\n",
            "Epoch 83/100\n",
            "500/500 [==============================] - 2s 4ms/step - loss: 0.1736 - val_loss: 0.1737\n",
            "Epoch 84/100\n",
            "500/500 [==============================] - 2s 4ms/step - loss: 0.1739 - val_loss: 0.1738\n",
            "Epoch 85/100\n",
            "500/500 [==============================] - 2s 4ms/step - loss: 0.1732 - val_loss: 0.1730\n",
            "Epoch 86/100\n",
            "500/500 [==============================] - 2s 4ms/step - loss: 0.1734 - val_loss: 0.1727\n",
            "Epoch 87/100\n",
            "500/500 [==============================] - 2s 5ms/step - loss: 0.1737 - val_loss: 0.1752\n",
            "Epoch 88/100\n",
            "500/500 [==============================] - 2s 4ms/step - loss: 0.1753 - val_loss: 0.1762\n",
            "Epoch 89/100\n",
            "500/500 [==============================] - 2s 4ms/step - loss: 0.1795 - val_loss: 0.1806\n",
            "Epoch 90/100\n",
            "500/500 [==============================] - 2s 4ms/step - loss: 0.1771 - val_loss: 0.1753\n",
            "Epoch 91/100\n",
            "500/500 [==============================] - 2s 4ms/step - loss: 0.1746 - val_loss: 0.1747\n",
            "Epoch 92/100\n",
            "500/500 [==============================] - 3s 5ms/step - loss: 0.1743 - val_loss: 0.1738\n",
            "Epoch 93/100\n",
            "500/500 [==============================] - 2s 4ms/step - loss: 0.1747 - val_loss: 0.1745\n",
            "Epoch 94/100\n",
            "500/500 [==============================] - 2s 4ms/step - loss: 0.1741 - val_loss: 0.1738\n",
            "Epoch 95/100\n",
            "500/500 [==============================] - 2s 4ms/step - loss: 0.1734 - val_loss: 0.1726\n",
            "Epoch 96/100\n",
            "500/500 [==============================] - 2s 4ms/step - loss: 0.1720 - val_loss: 0.1723\n",
            "Epoch 97/100\n",
            "500/500 [==============================] - 3s 5ms/step - loss: 0.1724 - val_loss: 0.1722\n",
            "Epoch 98/100\n",
            "500/500 [==============================] - 2s 4ms/step - loss: 0.1717 - val_loss: 0.1716\n",
            "Epoch 99/100\n",
            "500/500 [==============================] - 2s 4ms/step - loss: 0.1715 - val_loss: 0.1720\n",
            "Epoch 100/100\n",
            "500/500 [==============================] - 2s 4ms/step - loss: 0.1710 - val_loss: 0.1711\n"
          ]
        }
      ]
    },
    {
      "cell_type": "markdown",
      "source": [
        "# Visualizing the training and validation loss"
      ],
      "metadata": {
        "id": "HUt2hNgvJsXR"
      }
    },
    {
      "cell_type": "code",
      "source": [
        "plt.plot(history.history['loss'],label='Train')\n",
        "plt.plot(history.history['val_loss'], label='Validation')\n",
        "plt.ylabel('Binary Cross Entropy Loss')\n",
        "plt.xlabel('Epoch')\n",
        "plt.title('Autoencoder Reconstruction Loss', pad=15)\n",
        "plt.legend(loc='upper right')"
      ],
      "metadata": {
        "colab": {
          "base_uri": "https://localhost:8080/",
          "height": 502
        },
        "id": "MTKDCIwTJcdT",
        "outputId": "747b0c8b-efb5-4e99-c121-9f94d6aa8332"
      },
      "execution_count": 7,
      "outputs": [
        {
          "output_type": "execute_result",
          "data": {
            "text/plain": [
              "<matplotlib.legend.Legend at 0x7fb18e096ce0>"
            ]
          },
          "metadata": {},
          "execution_count": 7
        },
        {
          "output_type": "display_data",
          "data": {
            "text/plain": [
              "<Figure size 640x480 with 1 Axes>"
            ],
            "image/png": "[encoded data removed]"
          },
          "metadata": {}
        }
      ]
    },
    {
      "cell_type": "markdown",
      "source": [
        "## Comparing the test images with the the compressed MNIST digits after autoencoding."
      ],
      "metadata": {
        "id": "DUDmz0weMxn-"
      }
    },
    {
      "cell_type": "code",
      "source": [
        "# use the autoencoder to compress the test images\n",
        "\n",
        "compressed_images = autoencoder.predict(test_images) "
      ],
      "metadata": {
        "colab": {
          "base_uri": "https://localhost:8080/"
        },
        "id": "1cfs1lDwMsPP",
        "outputId": "91a8b0ca-91a0-4938-8fa3-97ce871cd1e4"
      },
      "execution_count": 8,
      "outputs": [
        {
          "output_type": "stream",
          "name": "stdout",
          "text": [
            "313/313 [==============================] - 1s 2ms/step\n"
          ]
        }
      ]
    },
    {
      "cell_type": "code",
      "source": [
        "n=15      # number of digits to display\n",
        "\n",
        "# dispalying the compressed digits\n",
        "for i in range(n):\n",
        "  # arranging the format to display the compressed images\n",
        "  ax = plt.subplot( 1, n, i+1)\n",
        "  plt.imshow(compressed_images[i].reshape(28,28),cmap='gray')\n",
        "  ax.axis('off')\n",
        "plt.show()\n",
        "\n",
        "# displaying the original images\n",
        "for i in range(n):\n",
        "  ay= plt.subplot(1, n, i+1)\n",
        "  plt.imshow(test_images[i].reshape(28,28),cmap='gray')\n",
        "  ay.axis('off')\n",
        "plt.show()"
      ],
      "metadata": {
        "colab": {
          "base_uri": "https://localhost:8080/",
          "height": 111
        },
        "id": "ckNxcwcBOptf",
        "outputId": "8729be7e-3d17-4286-e9fd-c6c3dbcbe58c"
      },
      "execution_count": 17,
      "outputs": [
        {
          "output_type": "display_data",
          "data": {
            "text/plain": [
              "<Figure size 640x480 with 15 Axes>"
            ],
            "image/png": "[encoded data removed]"
          },
          "metadata": {}
        },
        {
          "output_type": "display_data",
          "data": {
            "text/plain": [
              "<Figure size 640x480 with 15 Axes>"
            ],
            "image/png": "[encoded data removed]"
          },
          "metadata": {}
        }
      ]
    },
    {
      "cell_type": "markdown",
      "source": [
        "### The results show that even with a reduced dimension, the images as still somewhat clear"
      ],
      "metadata": {
        "id": "sQLFmNU4XMMF"
      }
    },
    {
      "cell_type": "code",
      "source": [],
      "metadata": {
        "id": "QLUAPmiXXANW"
      },
      "execution_count": null,
      "outputs": []
    }
  ]
}